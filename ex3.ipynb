{
 "cells": [
  {
   "cell_type": "code",
   "execution_count": 78,
   "metadata": {},
   "outputs": [],
   "source": [
    "import pandas as pd\n",
    "import numpy as np\n",
    "import seaborn as sns\n",
    "from matplotlib import pyplot as plt"
   ]
  },
  {
   "cell_type": "markdown",
   "metadata": {},
   "source": [
    "I converted the xlsx file to csv format and changed the names to 'jsc', 'VOC', 'Rsh', 'Rs', 'FF']"
   ]
  },
  {
   "cell_type": "code",
   "execution_count": 79,
   "metadata": {},
   "outputs": [],
   "source": [
    "from sklearn.decomposition import PCA\n",
    "from mpl_toolkits.mplot3d import Axes3D"
   ]
  },
  {
   "cell_type": "code",
   "execution_count": 80,
   "metadata": {},
   "outputs": [],
   "source": [
    "csvF = pd.read_csv('./4BC.csv', header=0, sep=',') "
   ]
  },
  {
   "cell_type": "markdown",
   "metadata": {},
   "source": [
    "### Step 2\n",
    "Next, we create a dataframe containing some cols"
   ]
  },
  {
   "cell_type": "code",
   "execution_count": 81,
   "metadata": {},
   "outputs": [
    {
     "data": {
      "text/plain": [
       "(549, 5)"
      ]
     },
     "execution_count": 81,
     "metadata": {},
     "output_type": "execute_result"
    }
   ],
   "source": [
    "dataset = csvF.loc[:,['jsc', 'VOC', 'Rsh', 'Rs', 'FF']]\n",
    "dataset.shape"
   ]
  },
  {
   "cell_type": "markdown",
   "metadata": {},
   "source": [
    "### Step 3\n",
    "We now need to create a PCA object, and then call the function that performs PCA on the dataset."
   ]
  },
  {
   "cell_type": "code",
   "execution_count": 82,
   "metadata": {},
   "outputs": [
    {
     "data": {
      "text/plain": [
       "array([[-1.43240472e+07, -1.90966586e+06, -2.16728523e+01],\n",
       "       [-1.63277791e+07, -1.40082426e+06, -3.19813113e+01],\n",
       "       [-1.50180341e+07, -1.66244592e+06, -2.27304714e+01],\n",
       "       ...,\n",
       "       [-1.70595038e+07, -1.15001204e+06, -2.85111723e+01],\n",
       "       [-1.46676034e+07, -1.46142779e+06, -3.18533860e+01],\n",
       "       [-1.70412238e+07, -1.21842065e+06, -2.78957860e+01]])"
      ]
     },
     "execution_count": 82,
     "metadata": {},
     "output_type": "execute_result"
    }
   ],
   "source": [
    "pca3 = PCA(n_components=3) #creating a PCA object, while determining the desired number of dimensions\n",
    "pcComponents = pca3.fit_transform(dataset) #performing PCA using fit_transform on our dataset\n",
    "pcComponents"
   ]
  },
  {
   "cell_type": "code",
   "execution_count": 83,
   "metadata": {},
   "outputs": [
    {
     "data": {
      "text/plain": [
       "(549, 3)"
      ]
     },
     "execution_count": 83,
     "metadata": {},
     "output_type": "execute_result"
    }
   ],
   "source": [
    "pcComponents.shape"
   ]
  },
  {
   "cell_type": "code",
   "execution_count": 84,
   "metadata": {},
   "outputs": [
    {
     "data": {
      "text/plain": [
       "array([8.49368671e-01, 1.50631329e-01, 2.41999101e-12])"
      ]
     },
     "execution_count": 84,
     "metadata": {},
     "output_type": "execute_result"
    }
   ],
   "source": [
    "pca3.explained_variance_ratio_ \n"
   ]
  },
  {
   "cell_type": "markdown",
   "metadata": {},
   "source": [
    "### Step 4\n",
    "we create cleaner df with all PCs"
   ]
  },
  {
   "cell_type": "code",
   "execution_count": 85,
   "metadata": {},
   "outputs": [],
   "source": [
    "principalDf = pd.DataFrame(data = pcComponents, columns = ['PC1', 'PC2','PC3'])"
   ]
  },
  {
   "cell_type": "code",
   "execution_count": 86,
   "metadata": {},
   "outputs": [
    {
     "data": {
      "text/html": [
       "<div>\n",
       "<style scoped>\n",
       "    .dataframe tbody tr th:only-of-type {\n",
       "        vertical-align: middle;\n",
       "    }\n",
       "\n",
       "    .dataframe tbody tr th {\n",
       "        vertical-align: top;\n",
       "    }\n",
       "\n",
       "    .dataframe thead th {\n",
       "        text-align: right;\n",
       "    }\n",
       "</style>\n",
       "<table border=\"1\" class=\"dataframe\">\n",
       "  <thead>\n",
       "    <tr style=\"text-align: right;\">\n",
       "      <th></th>\n",
       "      <th>PC1</th>\n",
       "      <th>PC2</th>\n",
       "      <th>PC3</th>\n",
       "    </tr>\n",
       "  </thead>\n",
       "  <tbody>\n",
       "    <tr>\n",
       "      <th>0</th>\n",
       "      <td>-1.432405e+07</td>\n",
       "      <td>-1.909666e+06</td>\n",
       "      <td>-21.672852</td>\n",
       "    </tr>\n",
       "    <tr>\n",
       "      <th>1</th>\n",
       "      <td>-1.632778e+07</td>\n",
       "      <td>-1.400824e+06</td>\n",
       "      <td>-31.981311</td>\n",
       "    </tr>\n",
       "    <tr>\n",
       "      <th>2</th>\n",
       "      <td>-1.501803e+07</td>\n",
       "      <td>-1.662446e+06</td>\n",
       "      <td>-22.730471</td>\n",
       "    </tr>\n",
       "    <tr>\n",
       "      <th>3</th>\n",
       "      <td>-1.516883e+07</td>\n",
       "      <td>-1.643755e+06</td>\n",
       "      <td>-24.755372</td>\n",
       "    </tr>\n",
       "    <tr>\n",
       "      <th>4</th>\n",
       "      <td>-1.489807e+07</td>\n",
       "      <td>-1.625843e+06</td>\n",
       "      <td>-24.726224</td>\n",
       "    </tr>\n",
       "    <tr>\n",
       "      <th>...</th>\n",
       "      <td>...</td>\n",
       "      <td>...</td>\n",
       "      <td>...</td>\n",
       "    </tr>\n",
       "    <tr>\n",
       "      <th>544</th>\n",
       "      <td>-1.482215e+07</td>\n",
       "      <td>-1.291666e+06</td>\n",
       "      <td>-34.090228</td>\n",
       "    </tr>\n",
       "    <tr>\n",
       "      <th>545</th>\n",
       "      <td>-1.453082e+07</td>\n",
       "      <td>-1.555145e+06</td>\n",
       "      <td>-29.872428</td>\n",
       "    </tr>\n",
       "    <tr>\n",
       "      <th>546</th>\n",
       "      <td>-1.705950e+07</td>\n",
       "      <td>-1.150012e+06</td>\n",
       "      <td>-28.511172</td>\n",
       "    </tr>\n",
       "    <tr>\n",
       "      <th>547</th>\n",
       "      <td>-1.466760e+07</td>\n",
       "      <td>-1.461428e+06</td>\n",
       "      <td>-31.853386</td>\n",
       "    </tr>\n",
       "    <tr>\n",
       "      <th>548</th>\n",
       "      <td>-1.704122e+07</td>\n",
       "      <td>-1.218421e+06</td>\n",
       "      <td>-27.895786</td>\n",
       "    </tr>\n",
       "  </tbody>\n",
       "</table>\n",
       "<p>549 rows × 3 columns</p>\n",
       "</div>"
      ],
      "text/plain": [
       "              PC1           PC2        PC3\n",
       "0   -1.432405e+07 -1.909666e+06 -21.672852\n",
       "1   -1.632778e+07 -1.400824e+06 -31.981311\n",
       "2   -1.501803e+07 -1.662446e+06 -22.730471\n",
       "3   -1.516883e+07 -1.643755e+06 -24.755372\n",
       "4   -1.489807e+07 -1.625843e+06 -24.726224\n",
       "..            ...           ...        ...\n",
       "544 -1.482215e+07 -1.291666e+06 -34.090228\n",
       "545 -1.453082e+07 -1.555145e+06 -29.872428\n",
       "546 -1.705950e+07 -1.150012e+06 -28.511172\n",
       "547 -1.466760e+07 -1.461428e+06 -31.853386\n",
       "548 -1.704122e+07 -1.218421e+06 -27.895786\n",
       "\n",
       "[549 rows x 3 columns]"
      ]
     },
     "execution_count": 86,
     "metadata": {},
     "output_type": "execute_result"
    }
   ],
   "source": [
    "principalDf\n"
   ]
  },
  {
   "cell_type": "markdown",
   "metadata": {},
   "source": [
    "### Step 5\n",
    "Adding BC col and converting string values in col BC to int"
   ]
  },
  {
   "cell_type": "code",
   "execution_count": 87,
   "metadata": {},
   "outputs": [
    {
     "name": "stdout",
     "output_type": "stream",
     "text": [
      "['Ag' 'Co' 'Cu' 'Ni']\n",
      "[1 2 3 4]\n"
     ]
    },
    {
     "data": {
      "text/html": [
       "<div>\n",
       "<style scoped>\n",
       "    .dataframe tbody tr th:only-of-type {\n",
       "        vertical-align: middle;\n",
       "    }\n",
       "\n",
       "    .dataframe tbody tr th {\n",
       "        vertical-align: top;\n",
       "    }\n",
       "\n",
       "    .dataframe thead th {\n",
       "        text-align: right;\n",
       "    }\n",
       "</style>\n",
       "<table border=\"1\" class=\"dataframe\">\n",
       "  <thead>\n",
       "    <tr style=\"text-align: right;\">\n",
       "      <th></th>\n",
       "      <th>PC1</th>\n",
       "      <th>PC2</th>\n",
       "      <th>PC3</th>\n",
       "      <th>BC</th>\n",
       "    </tr>\n",
       "  </thead>\n",
       "  <tbody>\n",
       "    <tr>\n",
       "      <th>0</th>\n",
       "      <td>-1.432405e+07</td>\n",
       "      <td>-1.909666e+06</td>\n",
       "      <td>-21.672852</td>\n",
       "      <td>1</td>\n",
       "    </tr>\n",
       "    <tr>\n",
       "      <th>1</th>\n",
       "      <td>-1.632778e+07</td>\n",
       "      <td>-1.400824e+06</td>\n",
       "      <td>-31.981311</td>\n",
       "      <td>1</td>\n",
       "    </tr>\n",
       "    <tr>\n",
       "      <th>2</th>\n",
       "      <td>-1.501803e+07</td>\n",
       "      <td>-1.662446e+06</td>\n",
       "      <td>-22.730471</td>\n",
       "      <td>1</td>\n",
       "    </tr>\n",
       "    <tr>\n",
       "      <th>3</th>\n",
       "      <td>-1.516883e+07</td>\n",
       "      <td>-1.643755e+06</td>\n",
       "      <td>-24.755372</td>\n",
       "      <td>1</td>\n",
       "    </tr>\n",
       "    <tr>\n",
       "      <th>4</th>\n",
       "      <td>-1.489807e+07</td>\n",
       "      <td>-1.625843e+06</td>\n",
       "      <td>-24.726224</td>\n",
       "      <td>1</td>\n",
       "    </tr>\n",
       "    <tr>\n",
       "      <th>...</th>\n",
       "      <td>...</td>\n",
       "      <td>...</td>\n",
       "      <td>...</td>\n",
       "      <td>...</td>\n",
       "    </tr>\n",
       "    <tr>\n",
       "      <th>544</th>\n",
       "      <td>-1.482215e+07</td>\n",
       "      <td>-1.291666e+06</td>\n",
       "      <td>-34.090228</td>\n",
       "      <td>4</td>\n",
       "    </tr>\n",
       "    <tr>\n",
       "      <th>545</th>\n",
       "      <td>-1.453082e+07</td>\n",
       "      <td>-1.555145e+06</td>\n",
       "      <td>-29.872428</td>\n",
       "      <td>4</td>\n",
       "    </tr>\n",
       "    <tr>\n",
       "      <th>546</th>\n",
       "      <td>-1.705950e+07</td>\n",
       "      <td>-1.150012e+06</td>\n",
       "      <td>-28.511172</td>\n",
       "      <td>4</td>\n",
       "    </tr>\n",
       "    <tr>\n",
       "      <th>547</th>\n",
       "      <td>-1.466760e+07</td>\n",
       "      <td>-1.461428e+06</td>\n",
       "      <td>-31.853386</td>\n",
       "      <td>4</td>\n",
       "    </tr>\n",
       "    <tr>\n",
       "      <th>548</th>\n",
       "      <td>-1.704122e+07</td>\n",
       "      <td>-1.218421e+06</td>\n",
       "      <td>-27.895786</td>\n",
       "      <td>4</td>\n",
       "    </tr>\n",
       "  </tbody>\n",
       "</table>\n",
       "<p>549 rows × 4 columns</p>\n",
       "</div>"
      ],
      "text/plain": [
       "              PC1           PC2        PC3  BC\n",
       "0   -1.432405e+07 -1.909666e+06 -21.672852   1\n",
       "1   -1.632778e+07 -1.400824e+06 -31.981311   1\n",
       "2   -1.501803e+07 -1.662446e+06 -22.730471   1\n",
       "3   -1.516883e+07 -1.643755e+06 -24.755372   1\n",
       "4   -1.489807e+07 -1.625843e+06 -24.726224   1\n",
       "..            ...           ...        ...  ..\n",
       "544 -1.482215e+07 -1.291666e+06 -34.090228   4\n",
       "545 -1.453082e+07 -1.555145e+06 -29.872428   4\n",
       "546 -1.705950e+07 -1.150012e+06 -28.511172   4\n",
       "547 -1.466760e+07 -1.461428e+06 -31.853386   4\n",
       "548 -1.704122e+07 -1.218421e+06 -27.895786   4\n",
       "\n",
       "[549 rows x 4 columns]"
      ]
     },
     "execution_count": 87,
     "metadata": {},
     "output_type": "execute_result"
    }
   ],
   "source": [
    "finalDf = pd.concat([principalDf, csvF[['BC']]], axis = 1)\n",
    "print(finalDf['BC'].unique())\n",
    "finalDf['BC'].replace({\"Ag\":1, \"Co\":2, \"Cu\":3, \"Ni\":4} , inplace=True)\n",
    "print(finalDf['BC'].unique())\n",
    "finalDf\n"
   ]
  },
  {
   "cell_type": "markdown",
   "metadata": {},
   "source": [
    "### Step 5\n",
    "Now we can visualize "
   ]
  },
  {
   "cell_type": "code",
   "execution_count": 88,
   "metadata": {},
   "outputs": [
    {
     "data": {
      "image/png": "[encoded data removed]",
      "text/plain": [
       "<Figure size 432x288 with 1 Axes>"
      ]
     },
     "metadata": {
      "needs_background": "light"
     },
     "output_type": "display_data"
    }
   ],
   "source": [
    "fig = plt.figure()\n",
    "ax = plt.axes(projection='3d')\n",
    "ax.scatter3D(finalDf['PC1'], finalDf['PC2'],finalDf['PC3'],c=finalDf['BC'])\n",
    "\n",
    "plt.show()"
   ]
  }
 ],
 "metadata": {
  "interpreter": {
   "hash": "aee8b7b246df8f9039afb4144a1f6fd8d2ca17a180786b69acc140d282b71a49"
  },
  "kernelspec": {
   "display_name": "Python 3.10.1 64-bit",
   "language": "python",
   "name": "python3"
  },
  "language_info": {
   "codemirror_mode": {
    "name": "ipython",
    "version": 3
   },
   "file_extension": ".py",
   "mimetype": "text/x-python",
   "name": "python",
   "nbconvert_exporter": "python",
   "pygments_lexer": "ipython3",
   "version": "3.10.1"
  },
  "orig_nbformat": 4
 },
 "nbformat": 4,
 "nbformat_minor": 2
}
